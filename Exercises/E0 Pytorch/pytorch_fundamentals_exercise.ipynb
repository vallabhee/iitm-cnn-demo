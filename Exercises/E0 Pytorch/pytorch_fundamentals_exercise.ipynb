{
  "cells": [
    {
      "cell_type": "markdown",
      "metadata": {
        "id": "AzDBM_v4iMe7"
      },
      "source": [
        "# **PyTorch Fundamentals Exercise**\n",
        "\n"
      ]
    },
    {
      "cell_type": "code",
      "execution_count": null,
      "metadata": {
        "id": "XPUG4n_skaq1"
      },
      "outputs": [],
      "source": [
        "# Import all the necessary libraries here\n",
        "import torch"
      ]
    },
    {
      "cell_type": "markdown",
      "metadata": {
        "id": "__iXqqz-ioUJ"
      },
      "source": [
        "### **Q1 Create a random tensor with shape `(7, 7)`**\n"
      ]
    },
    {
      "cell_type": "code",
      "execution_count": null,
      "metadata": {
        "id": "6pUq9Dc8i2L7",
        "outputId": "39183f0a-59cd-40bf-ebe9-90caf1c0e82b",
        "colab": {
          "base_uri": "https://localhost:8080/"
        }
      },
      "outputs": [
        {
          "output_type": "stream",
          "name": "stdout",
          "text": [
            "tensor([[0.7937, 0.6414, 0.8557, 0.4398, 0.1515, 0.6923, 0.6724],\n",
            "        [0.5931, 0.9442, 0.3387, 0.2812, 0.2440, 0.6945, 0.9071],\n",
            "        [0.8228, 0.2694, 0.4275, 0.5419, 0.3074, 0.2858, 0.6381],\n",
            "        [0.2535, 0.7374, 0.9870, 0.9759, 0.6457, 0.8740, 0.9639],\n",
            "        [0.3743, 0.6017, 0.9772, 0.3823, 0.9402, 0.8318, 0.5124],\n",
            "        [0.6818, 0.4178, 0.7572, 0.2346, 0.3805, 0.6869, 0.2429],\n",
            "        [0.2458, 0.7664, 0.1560, 0.3509, 0.4353, 0.2049, 0.3744]])\n"
          ]
        }
      ],
      "source": [
        "tensor = torch.rand(7, 7)\n",
        "print(tensor)"
      ]
    },
    {
      "cell_type": "markdown",
      "metadata": {
        "id": "9-XxvRLfiqkR"
      },
      "source": [
        "### **Q2 Perform a matrix multiplication on the tensor from Q1 with another random tensor with shape `(1, 7)`**"
      ]
    },
    {
      "cell_type": "code",
      "execution_count": null,
      "metadata": {
        "id": "NcLqR0Sbi_vT",
        "outputId": "a1af7f27-5b15-467f-ef7c-13a7064f1e32",
        "colab": {
          "base_uri": "https://localhost:8080/"
        }
      },
      "outputs": [
        {
          "output_type": "stream",
          "name": "stdout",
          "text": [
            "tensor([[0.8228, 0.4896, 0.9313, 0.3500, 0.2807, 0.7552, 0.9763]])\n"
          ]
        },
        {
          "output_type": "execute_result",
          "data": {
            "text/plain": [
              "tensor([[3.1397],\n",
              "        [2.8427],\n",
              "        [2.3217],\n",
              "        [3.6127],\n",
              "        [3.0387],\n",
              "        [2.4155],\n",
              "        [1.4880]])"
            ]
          },
          "metadata": {},
          "execution_count": 11
        }
      ],
      "source": [
        "tensor1 = torch.rand(1,7)\n",
        "print(tensor1)\n",
        "torch.matmul(tensor, tensor1.T)"
      ]
    },
    {
      "cell_type": "markdown",
      "metadata": {
        "id": "eiutdKUFiryU"
      },
      "source": [
        "### **Q3 Set the random seed to `0` and do Q1 & Q2 over again**"
      ]
    },
    {
      "cell_type": "code",
      "execution_count": null,
      "metadata": {
        "id": "D-lOWI_1jRMm"
      },
      "outputs": [],
      "source": [
        "# Your code here"
      ]
    },
    {
      "cell_type": "markdown",
      "metadata": {
        "id": "ezY6ks9Cis37"
      },
      "source": [
        "### **Q4 Speaking of random seeds, we saw how to set it with `torch.manual_seed()` but is there a GPU equivalent?**\n",
        "  * If there is, set the GPU random seed to `1234`"
      ]
    },
    {
      "cell_type": "code",
      "execution_count": null,
      "metadata": {
        "id": "_LKWcfSTjp00"
      },
      "outputs": [],
      "source": [
        "# Your code here"
      ]
    },
    {
      "cell_type": "markdown",
      "metadata": {
        "id": "Ir9qSaj6it4n"
      },
      "source": [
        "\n",
        "### **Q5 Create two random tensors of shape `(2, 3)` and send them both to the GPU. Set `torch.manual_seed(1234)` when creating the tensors (this doesn't have to be the GPU random seed)**"
      ]
    },
    {
      "cell_type": "code",
      "execution_count": null,
      "metadata": {
        "id": "azXExiFZj5nm"
      },
      "outputs": [],
      "source": [
        "# Your code here"
      ]
    },
    {
      "cell_type": "markdown",
      "metadata": {
        "id": "5TlAxeiSiu1y"
      },
      "source": [
        "\n",
        "### **Q6 Perform a matrix multiplication on the tensors you created in Q5**"
      ]
    },
    {
      "cell_type": "code",
      "execution_count": null,
      "metadata": {
        "id": "fAeG7ox0lHEO"
      },
      "outputs": [],
      "source": [
        "# Your code here"
      ]
    },
    {
      "cell_type": "markdown",
      "metadata": {
        "id": "G7qfa5CSivwg"
      },
      "source": [
        "### **Q7 Find the maximum and minimum values of the output of Q6**"
      ]
    },
    {
      "cell_type": "code",
      "execution_count": null,
      "metadata": {
        "id": "Fu8_3mZpllOd"
      },
      "outputs": [],
      "source": [
        "# Your code here"
      ]
    },
    {
      "cell_type": "markdown",
      "metadata": {
        "id": "wrTj5FgNiw47"
      },
      "source": [
        "### **Q8 Find the maximum and minimum index values of the output of Q6**"
      ]
    },
    {
      "cell_type": "code",
      "execution_count": null,
      "metadata": {
        "id": "CCEKt4K2lsfQ"
      },
      "outputs": [],
      "source": [
        "# Your code here"
      ]
    },
    {
      "cell_type": "markdown",
      "metadata": {
        "id": "Bx9GBibjnBt-"
      },
      "source": [
        "### **Q9 Perform a matrix multiplication on the tensors you created in Q5 in `numpy` and convert the output to tensor**"
      ]
    },
    {
      "cell_type": "code",
      "execution_count": null,
      "metadata": {
        "id": "Hi9HvztnnOMm"
      },
      "outputs": [],
      "source": [
        "# Your code here"
      ]
    },
    {
      "cell_type": "markdown",
      "metadata": {
        "id": "hmeybz4uixy7"
      },
      "source": [
        "\n",
        "### **Q10 Make a random tensor with shape `(1, 1, 1, 10)` and then convert it to a tensor of shape `(10)`. Set the seed to `7` when you create it and print out the first tensor and it's shape as well as the second tensor and it's shape**"
      ]
    },
    {
      "cell_type": "code",
      "execution_count": null,
      "metadata": {
        "id": "TQ9zbRzVl1jV"
      },
      "outputs": [],
      "source": [
        "# Your code here"
      ]
    }
  ],
  "metadata": {
    "accelerator": "GPU",
    "colab": {
      "provenance": []
    },
    "kernelspec": {
      "display_name": "Python 3",
      "name": "python3"
    },
    "language_info": {
      "name": "python"
    }
  },
  "nbformat": 4,
  "nbformat_minor": 0
}